{
 "cells": [
  {
   "cell_type": "code",
   "execution_count": null,
   "id": "735d9792-0b9b-414c-b3f1-cb7c0860d553",
   "metadata": {},
   "outputs": [],
   "source": [
    "#Python Practice"
   ]
  },
  {
   "cell_type": "code",
   "execution_count": 1,
   "id": "41483493-1a88-4842-92ba-41423d76aebb",
   "metadata": {},
   "outputs": [
    {
     "name": "stdout",
     "output_type": "stream",
     "text": [
      "Hello World!\n"
     ]
    }
   ],
   "source": [
    "print(\"Hello World!\")"
   ]
  },
  {
   "cell_type": "code",
   "execution_count": null,
   "id": "8ed51d2c-ba1e-4c5b-8634-cc484cd148c8",
   "metadata": {},
   "outputs": [],
   "source": []
  }
 ],
 "metadata": {
  "kernelspec": {
   "display_name": "Python 3 (ipykernel)",
   "language": "python",
   "name": "python3"
  },
  "language_info": {
   "codemirror_mode": {
    "name": "ipython",
    "version": 3
   },
   "file_extension": ".py",
   "mimetype": "text/x-python",
   "name": "python",
   "nbconvert_exporter": "python",
   "pygments_lexer": "ipython3",
   "version": "3.12.3"
  }
 },
 "nbformat": 4,
 "nbformat_minor": 5
}
